{
 "cells": [
  {
   "cell_type": "code",
   "execution_count": null,
   "id": "22475a18",
   "metadata": {},
   "outputs": [
    {
     "name": "stdout",
     "output_type": "stream",
     "text": [
      "Solução do sistema (x, y): (1.0, 1.0)\n"
     ]
    }
   ],
   "source": [
    "#1a\n",
    "\n",
    "def resolver_sistema_cramer(a, b, c, d, e, f):\n",
    "    denominador = a * d - b * c\n",
    "    if denominador == 0:\n",
    "        return \"Sistema sem solução única.\"\n",
    "    x = (e * d - b * f) / denominador\n",
    "    y = (a * f - e * c) / denominador\n",
    "    return x, y\n",
    "\n",
    "# Coeficientes do sistema fornecido:\n",
    "# 1.000x + 1.000y = 2.000\n",
    "# 1.000x + 1.001y = 2.001\n",
    "\n",
    "a, b, c, d = 1.000, 1.000, 1.000, 1.001\n",
    "e, f = 2.000, 2.001\n",
    "\n",
    "resultado = resolver_sistema_cramer(a, b, c, d, e, f)\n",
    "print(\"Solução do sistema (x, y):\", resultado)\n"
   ]
  },
  {
   "cell_type": "code",
   "execution_count": 4,
   "id": "14d0842e",
   "metadata": {},
   "outputs": [
    {
     "name": "stdout",
     "output_type": "stream",
     "text": [
      "Solução usando numpy.linalg.solve: [1. 1.]\n",
      "Solução usando regra de Cramer: (1.0, 1.0)\n",
      "Diferença absoluta entre os métodos: [0. 0.]\n"
     ]
    }
   ],
   "source": [
    "#1b\n",
    "\n",
    "import numpy as np\n",
    "\n",
    "# Sistema: a, b, c, d, e, f já definidos anteriormente\n",
    "A = np.array([[a, b], [c, d]])\n",
    "B = np.array([e, f])\n",
    "\n",
    "# Solução usando numpy\n",
    "solucao_numpy = np.linalg.solve(A, B)\n",
    "\n",
    "# Solução usando Cramer (já calculada anteriormente)\n",
    "solucao_cramer = resolver_sistema_cramer(a, b, c, d, e, f)\n",
    "\n",
    "print(\"Solução usando numpy.linalg.solve:\", solucao_numpy)\n",
    "print(\"Solução usando regra de Cramer:\", solucao_cramer)\n",
    "\n",
    "# Diferença entre os métodos\n",
    "diferenca = np.abs(solucao_numpy - np.array(solucao_cramer))\n",
    "print(\"Diferença absoluta entre os métodos:\", diferenca)"
   ]
  }
 ],
 "metadata": {
  "kernelspec": {
   "display_name": "base",
   "language": "python",
   "name": "python3"
  },
  "language_info": {
   "codemirror_mode": {
    "name": "ipython",
    "version": 3
   },
   "file_extension": ".py",
   "mimetype": "text/x-python",
   "name": "python",
   "nbconvert_exporter": "python",
   "pygments_lexer": "ipython3",
   "version": "3.12.7"
  }
 },
 "nbformat": 4,
 "nbformat_minor": 5
}
